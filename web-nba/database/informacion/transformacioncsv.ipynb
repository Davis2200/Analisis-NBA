{
 "cells": [
  {
   "cell_type": "code",
   "execution_count": 1,
   "id": "ac7275f1",
   "metadata": {},
   "outputs": [],
   "source": [
    "import pandas as pd "
   ]
  },
  {
   "cell_type": "code",
   "execution_count": 16,
   "id": "f90d73e5",
   "metadata": {},
   "outputs": [
    {
     "data": {
      "text/plain": [
       "Index(['player_id', 'name', 'height', 'weight', 'team', 'position'], dtype='object')"
      ]
     },
     "execution_count": 16,
     "metadata": {},
     "output_type": "execute_result"
    }
   ],
   "source": [
    "nba_player = pd.read_csv('nba_players_adapted.csv')\n",
    "nba_teams = pd.read_csv('nba_teams.csv')\n",
    "nba_player.columns"
   ]
  },
  {
   "cell_type": "code",
   "execution_count": null,
   "id": "82216f2c",
   "metadata": {},
   "outputs": [],
   "source": [
    "#Diccionario de abreviaciones de equipos\n",
    "\n",
    "\n",
    "team_abbreviations = {\n",
    "    1610612737: 'ATL',  # Atlanta Hawks\n",
    "    1610612738: 'BOS',  # Boston Celtics\n",
    "    1610612739: 'CLE',  # Cleveland Cavaliers\n",
    "    \n",
    "    1610612740: 'NOP',  # New Orleans Pelicans\n",
    "    1610612741: 'CHI',  # Chicago Bulls\n",
    "    1610612742: 'DAL',  # Dallas Mavericks\n",
    "    1610612743: 'DEN',  # Denver Nuggets\n",
    "    1610612744: 'GSW',  # Golden State Warriors\n",
    "    1610612745: 'HOU',  # Houston Rockets\n",
    "    1610612746: 'LAC',  # LA Clippers\n",
    "    1610612747: 'LAL',  # Los Angeles Lakers\n",
    "    1610612748: 'MIA',  # Miami Heat\n",
    "    1610612749: 'MIL',  # Milwaukee Bucks\n",
    "    1610612750: 'MIN',  # Minnesota Timberwolves\n",
    "    1610612751: 'BKN',  # Brooklyn Nets\n",
    "    1610612752: 'NYK',  # New York Knicks\n",
    "    1610612753: 'ORL',  # Orlando Magic\n",
    "    1610612754: 'IND',  # Indiana Pacers\n",
    "    1610612755: 'PHI',  # Philadelphia 76ers\n",
    "    1610612756: 'PHX',  # Phoenix Suns\n",
    "    1610612757: 'POR',  # Portland Trail Blazers\n",
    "    1610612758: 'SAC',  # Sacramento Kings\n",
    "    1610612759: 'SAS',  # San Antonio Spurs\n",
    "    1610612760: 'OKC',  # Oklahoma City Thunder\n",
    "    1610612761: 'TOR',  # Toronto Raptors\n",
    "    1610612762: 'UTA',  # Utah Jazz\n",
    "    1610612763: 'MEM',  # Memphis Grizzlies\n",
    "    1610612764: 'WAS',  # Washington Wizards\n",
    "    1610612765: 'DET',  # Detroit Pistons\n",
    "    1610612766: 'CHA'   # Charlotte Hornets\n",
    "}"
   ]
  },
  {
   "cell_type": "code",
   "execution_count": null,
   "id": "3211adc5",
   "metadata": {},
   "outputs": [],
   "source": [
    "#agregacion de abbreviation a csv teams \n",
    "\n",
    "nba_teams['abbreviation'] = nba_teams['team_id'].map(team_abbreviations)\n"
   ]
  },
  {
   "cell_type": "code",
   "execution_count": 19,
   "id": "339aa92f",
   "metadata": {},
   "outputs": [],
   "source": [
    "team_mapping = nba_teams.set_index('abbreviation')['team_id'].to_dict()\n",
    "\n",
    "# Mapear las abreviaturas en players_df al team_id correspondiente\n",
    "nba_player['team_id'] = nba_player['team'].map(team_mapping)"
   ]
  },
  {
   "cell_type": "code",
   "execution_count": 20,
   "id": "4e15b274",
   "metadata": {},
   "outputs": [
    {
     "data": {
      "text/html": [
       "<div>\n",
       "<style scoped>\n",
       "    .dataframe tbody tr th:only-of-type {\n",
       "        vertical-align: middle;\n",
       "    }\n",
       "\n",
       "    .dataframe tbody tr th {\n",
       "        vertical-align: top;\n",
       "    }\n",
       "\n",
       "    .dataframe thead th {\n",
       "        text-align: right;\n",
       "    }\n",
       "</style>\n",
       "<table border=\"1\" class=\"dataframe\">\n",
       "  <thead>\n",
       "    <tr style=\"text-align: right;\">\n",
       "      <th></th>\n",
       "      <th>player_id</th>\n",
       "      <th>name</th>\n",
       "      <th>height</th>\n",
       "      <th>weight</th>\n",
       "      <th>team</th>\n",
       "      <th>position</th>\n",
       "      <th>team_id</th>\n",
       "    </tr>\n",
       "  </thead>\n",
       "  <tbody>\n",
       "    <tr>\n",
       "      <th>0</th>\n",
       "      <td>1630173</td>\n",
       "      <td>Precious Achiuwa</td>\n",
       "      <td>6-8</td>\n",
       "      <td>243.0</td>\n",
       "      <td>NYK</td>\n",
       "      <td>Forward</td>\n",
       "      <td>1.610613e+09</td>\n",
       "    </tr>\n",
       "    <tr>\n",
       "      <th>1</th>\n",
       "      <td>203500</td>\n",
       "      <td>Steven Adams</td>\n",
       "      <td>6-11</td>\n",
       "      <td>265.0</td>\n",
       "      <td>HOU</td>\n",
       "      <td>Center</td>\n",
       "      <td>1.610613e+09</td>\n",
       "    </tr>\n",
       "    <tr>\n",
       "      <th>2</th>\n",
       "      <td>1628389</td>\n",
       "      <td>Bam Adebayo</td>\n",
       "      <td>6-9</td>\n",
       "      <td>255.0</td>\n",
       "      <td>MIA</td>\n",
       "      <td>Center-Forward</td>\n",
       "      <td>1.610613e+09</td>\n",
       "    </tr>\n",
       "    <tr>\n",
       "      <th>3</th>\n",
       "      <td>1630534</td>\n",
       "      <td>Ochai Agbaji</td>\n",
       "      <td>6-5</td>\n",
       "      <td>215.0</td>\n",
       "      <td>TOR</td>\n",
       "      <td>Guard</td>\n",
       "      <td>1.610613e+09</td>\n",
       "    </tr>\n",
       "    <tr>\n",
       "      <th>4</th>\n",
       "      <td>1630583</td>\n",
       "      <td>Santi Aldama</td>\n",
       "      <td>7-0</td>\n",
       "      <td>215.0</td>\n",
       "      <td>MEM</td>\n",
       "      <td>Forward-Center</td>\n",
       "      <td>1.610613e+09</td>\n",
       "    </tr>\n",
       "  </tbody>\n",
       "</table>\n",
       "</div>"
      ],
      "text/plain": [
       "   player_id              name height  weight team        position  \\\n",
       "0    1630173  Precious Achiuwa    6-8   243.0  NYK         Forward   \n",
       "1     203500      Steven Adams   6-11   265.0  HOU          Center   \n",
       "2    1628389       Bam Adebayo    6-9   255.0  MIA  Center-Forward   \n",
       "3    1630534      Ochai Agbaji    6-5   215.0  TOR           Guard   \n",
       "4    1630583      Santi Aldama    7-0   215.0  MEM  Forward-Center   \n",
       "\n",
       "        team_id  \n",
       "0  1.610613e+09  \n",
       "1  1.610613e+09  \n",
       "2  1.610613e+09  \n",
       "3  1.610613e+09  \n",
       "4  1.610613e+09  "
      ]
     },
     "execution_count": 20,
     "metadata": {},
     "output_type": "execute_result"
    }
   ],
   "source": [
    "nba_player.head()"
   ]
  },
  {
   "cell_type": "code",
   "execution_count": null,
   "id": "a6fcae03",
   "metadata": {},
   "outputs": [
    {
     "data": {
      "text/plain": [
       "np.True_"
      ]
     },
     "execution_count": 23,
     "metadata": {},
     "output_type": "execute_result"
    }
   ],
   "source": [
    "\n",
    "\n",
    "resultado = nba_player.loc[nba_player['name'].str.contains('Bam Adebayo', case=False), 'team_id'].iloc[0] == nba_teams.loc[nba_teams['abbreviation'] == 'MIA', 'team_id'].iloc[0]\n",
    "resultado"
   ]
  },
  {
   "cell_type": "code",
   "execution_count": 24,
   "id": "89eb00e1",
   "metadata": {},
   "outputs": [],
   "source": [
    "nba_player.to_csv('nba_players_adapted.csv', index=False)"
   ]
  }
 ],
 "metadata": {
  "kernelspec": {
   "display_name": "Python 3",
   "language": "python",
   "name": "python3"
  },
  "language_info": {
   "codemirror_mode": {
    "name": "ipython",
    "version": 3
   },
   "file_extension": ".py",
   "mimetype": "text/x-python",
   "name": "python",
   "nbconvert_exporter": "python",
   "pygments_lexer": "ipython3",
   "version": "3.13.5"
  }
 },
 "nbformat": 4,
 "nbformat_minor": 5
}
