{
 "cells": [
  {
   "cell_type": "code",
   "execution_count": null,
   "id": "f2e0f198",
   "metadata": {},
   "outputs": [],
   "source": []
  },
  {
   "cell_type": "code",
   "execution_count": 1,
   "id": "356a2252",
   "metadata": {},
   "outputs": [],
   "source": [
    "import pandas as pd "
   ]
  },
  {
   "cell_type": "code",
   "execution_count": null,
   "id": "c8596a53",
   "metadata": {},
   "outputs": [
    {
     "ename": "ImportError",
     "evalue": "cannot import name 'scoreboardv3' from 'nba_api.stats.endpoints' (c:\\Users\\dnava\\AppData\\Local\\Programs\\Python\\Python313\\Lib\\site-packages\\nba_api\\stats\\endpoints\\__init__.py)",
     "output_type": "error",
     "traceback": [
      "\u001b[1;31m---------------------------------------------------------------------------\u001b[0m",
      "\u001b[1;31mImportError\u001b[0m                               Traceback (most recent call last)",
      "Cell \u001b[1;32mIn[7], line 1\u001b[0m\n\u001b[1;32m----> 1\u001b[0m \u001b[38;5;28;01mfrom\u001b[39;00m \u001b[38;5;21;01mnba_api\u001b[39;00m\u001b[38;5;21;01m.\u001b[39;00m\u001b[38;5;21;01mstats\u001b[39;00m\u001b[38;5;21;01m.\u001b[39;00m\u001b[38;5;21;01mendpoints\u001b[39;00m \u001b[38;5;28;01mimport\u001b[39;00m leaguegamelog, scoreboardv3\n\u001b[0;32m      2\u001b[0m \u001b[38;5;28;01mfrom\u001b[39;00m \u001b[38;5;21;01mnba_api\u001b[39;00m\u001b[38;5;21;01m.\u001b[39;00m\u001b[38;5;21;01mstats\u001b[39;00m\u001b[38;5;21;01m.\u001b[39;00m\u001b[38;5;21;01mstatic\u001b[39;00m \u001b[38;5;28;01mimport\u001b[39;00m teams\n\u001b[0;32m      3\u001b[0m \u001b[38;5;28;01mimport\u001b[39;00m \u001b[38;5;21;01mpandas\u001b[39;00m \u001b[38;5;28;01mas\u001b[39;00m \u001b[38;5;21;01mpd\u001b[39;00m\n",
      "\u001b[1;31mImportError\u001b[0m: cannot import name 'scoreboardv3' from 'nba_api.stats.endpoints' (c:\\Users\\dnava\\AppData\\Local\\Programs\\Python\\Python313\\Lib\\site-packages\\nba_api\\stats\\endpoints\\__init__.py)"
     ]
    }
   ],
   "source": [
    "from nba_api.stats.endpoints import leaguegamelog, scoreboardv2  # Usamos ScoreboardV2 en lugar de V3\n",
    "from nba_api.stats.static import teams\n",
    "import pandas as pd\n",
    "\n",
    "# Configuración\n",
    "season = \"2023-24\"  # Cambia según la temporada\n",
    "season_type = \"Pre Season\"  # Pretemporada\n",
    "\n",
    "# --- 1. Obtener partidos ya jugados (LeagueGameLog) ---\n",
    "try:\n",
    "    gamelog = leaguegamelog.LeagueGameLog(season=season, season_type=season_type)\n",
    "    games_played = gamelog.get_data_frames()[0]\n",
    "    print(f\"Partidos jugados en pretemporada: {len(games_played)}\")\n",
    "except Exception as e:\n",
    "    print(f\"No se pudieron obtener partidos jugados: {e}\")\n",
    "    games_played = pd.DataFrame()\n",
    "\n",
    "# --- 2. Obtener próximos partidos (ScoreboardV2) ---\n",
    "try:\n",
    "    scoreboard = scoreboardv2.ScoreboardV2()  # Sin parámetros = partidos del día actual\n",
    "    upcoming_games = scoreboard.line_score.get_data_frame()  # DataFrame con próximos partidos\n",
    "    print(f\"Próximos partidos: {len(upcoming_games)}\")\n",
    "except Exception as e:\n",
    "    print(f\"No se pudieron obtener próximos partidos: {e}\")\n",
    "    upcoming_games = pd.DataFrame()\n",
    "\n",
    "# --- 3. Procesar y combinar datos ---\n",
    "if not games_played.empty or not upcoming_games.empty:\n",
    "    # Mapear team_id a nombres de equipos\n",
    "    nba_teams = {team[\"id\"]: team[\"full_name\"] for team in teams.get_teams()}\n",
    "    \n",
    "    # Crear estructura compatible con tu tabla SQL\n",
    "    final_data = []\n",
    "    \n",
    "    # Procesar partidos jugados (si existen)\n",
    "    if not games_played.empty:\n",
    "        for _, row in games_played.iterrows():\n",
    "            home_team, visitor_team = row[\"MATCHUP\"].split(\" vs. \")  # Ejemplo: \"MIA vs. BOS\"\n",
    "            game_info = {\n",
    "                \"game_id\": row[\"GAME_ID\"],\n",
    "                \"scheduled_date\": pd.to_datetime(row[\"GAME_DATE\"]).strftime(\"%Y-%m-%d %H:%M:%S\"),\n",
    "                \"status\": \"scheduled\",\n",
    "                \"home_team_id\": row[\"TEAM_ID\"],  # Equipo local (necesita ajuste)\n",
    "                \"visitor_team_id\": visitor_team,  # Equipo visitante (necesita team_id)\n",
    "                \"stadium\": \"Unknown\"\n",
    "            }\n",
    "            final_data.append(game_info)\n",
    "    \n",
    "    # Procesar próximos partidos (si existen)\n",
    "    if not upcoming_games.empty:\n",
    "        for _, row in upcoming_games.iterrows():\n",
    "            game_info = {\n",
    "                \"game_id\": row[\"GAME_ID\"],\n",
    "                \"scheduled_date\": pd.to_datetime(row[\"GAME_DATE_EST\"]).strftime(\"%Y-%m-%d %H:%M:%S\"),\n",
    "                \"status\": \"scheduled\",\n",
    "                \"home_team_id\": row[\"TEAM_ID\"],\n",
    "                \"visitor_team_id\": row[\"TEAM_ID_OPPOSING\"],  # Necesita ajuste\n",
    "                \"stadium\": \"Unknown\"\n",
    "            }\n",
    "            final_data.append(game_info)\n",
    "    \n",
    "    # Guardar en CSV\n",
    "    df = pd.DataFrame(final_data)\n",
    "    df.to_csv(\"nba_preseason_schedule.csv\", index=False)\n",
    "    print(\"✅ Datos guardados en 'nba_preseason_schedule.csv'\")\n",
    "else:\n",
    "    print(\"❌ No se encontraron datos de pretemporada.\")"
   ]
  },
  {
   "cell_type": "code",
   "execution_count": 3,
   "id": "99d42333",
   "metadata": {},
   "outputs": [
    {
     "data": {
      "text/plain": [
       "<nba_api.live.nba.endpoints.scoreboard.ScoreBoard at 0x2cd293f5d30>"
      ]
     },
     "execution_count": 3,
     "metadata": {},
     "output_type": "execute_result"
    }
   ],
   "source": [
    "games\n"
   ]
  },
  {
   "cell_type": "code",
   "execution_count": null,
   "id": "aad75c58",
   "metadata": {},
   "outputs": [],
   "source": []
  }
 ],
 "metadata": {
  "kernelspec": {
   "display_name": "Python 3",
   "language": "python",
   "name": "python3"
  },
  "language_info": {
   "codemirror_mode": {
    "name": "ipython",
    "version": 3
   },
   "file_extension": ".py",
   "mimetype": "text/x-python",
   "name": "python",
   "nbconvert_exporter": "python",
   "pygments_lexer": "ipython3",
   "version": "3.13.5"
  }
 },
 "nbformat": 4,
 "nbformat_minor": 5
}
